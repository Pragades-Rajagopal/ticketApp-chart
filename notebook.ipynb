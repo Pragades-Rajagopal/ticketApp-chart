{
 "cells": [
  {
   "cell_type": "code",
   "execution_count": 1,
   "metadata": {},
   "outputs": [],
   "source": [
    "import pandas as pd"
   ]
  },
  {
   "cell_type": "code",
   "execution_count": 3,
   "metadata": {},
   "outputs": [
    {
     "data": {
      "text/html": [
       "<div>\n",
       "<style scoped>\n",
       "    .dataframe tbody tr th:only-of-type {\n",
       "        vertical-align: middle;\n",
       "    }\n",
       "\n",
       "    .dataframe tbody tr th {\n",
       "        vertical-align: top;\n",
       "    }\n",
       "\n",
       "    .dataframe thead th {\n",
       "        text-align: right;\n",
       "    }\n",
       "</style>\n",
       "<table border=\"1\" class=\"dataframe\">\n",
       "  <thead>\n",
       "    <tr style=\"text-align: right;\">\n",
       "      <th></th>\n",
       "      <th>RESOLUTION</th>\n",
       "      <th>TICKET_COUNT</th>\n",
       "      <th>TICKET_TYPE</th>\n",
       "      <th>MONTH</th>\n",
       "    </tr>\n",
       "  </thead>\n",
       "  <tbody>\n",
       "    <tr>\n",
       "      <th>0</th>\n",
       "      <td>Bill Start Date Update for Data Orders</td>\n",
       "      <td>1</td>\n",
       "      <td>Service Request</td>\n",
       "      <td>Jan2022</td>\n",
       "    </tr>\n",
       "    <tr>\n",
       "      <th>1</th>\n",
       "      <td>Old charge Id update in the latest MACD order</td>\n",
       "      <td>1</td>\n",
       "      <td>Incident</td>\n",
       "      <td>Jan2022</td>\n",
       "    </tr>\n",
       "    <tr>\n",
       "      <th>2</th>\n",
       "      <td>Termination Date Update for Data Orders</td>\n",
       "      <td>2</td>\n",
       "      <td>Service Request</td>\n",
       "      <td>Jan2022</td>\n",
       "    </tr>\n",
       "    <tr>\n",
       "      <th>3</th>\n",
       "      <td>Pilot activity - City Configuration</td>\n",
       "      <td>1</td>\n",
       "      <td>Service Request</td>\n",
       "      <td>Jan2022</td>\n",
       "    </tr>\n",
       "    <tr>\n",
       "      <th>4</th>\n",
       "      <td>Circuit Fetching - PO details Updated for Cram...</td>\n",
       "      <td>1</td>\n",
       "      <td>Incident</td>\n",
       "      <td>Jan2022</td>\n",
       "    </tr>\n",
       "  </tbody>\n",
       "</table>\n",
       "</div>"
      ],
      "text/plain": [
       "                                          RESOLUTION  TICKET_COUNT  \\\n",
       "0             Bill Start Date Update for Data Orders             1   \n",
       "1      Old charge Id update in the latest MACD order             1   \n",
       "2            Termination Date Update for Data Orders             2   \n",
       "3                Pilot activity - City Configuration             1   \n",
       "4  Circuit Fetching - PO details Updated for Cram...             1   \n",
       "\n",
       "       TICKET_TYPE    MONTH  \n",
       "0  Service Request  Jan2022  \n",
       "1         Incident  Jan2022  \n",
       "2  Service Request  Jan2022  \n",
       "3  Service Request  Jan2022  \n",
       "4         Incident  Jan2022  "
      ]
     },
     "execution_count": 3,
     "metadata": {},
     "output_type": "execute_result"
    }
   ],
   "source": [
    "df = pd.read_csv('./data/data.csv')\n",
    "df.head(5)"
   ]
  },
  {
   "cell_type": "code",
   "execution_count": 26,
   "metadata": {},
   "outputs": [
    {
     "data": {
      "text/plain": [
       "['Old charge Id update in the latest MACD order',\n",
       " 'Circuit Fetching - PO details Updated for Cramer fetched circuit',\n",
       " 'Charge Transfer - SECS Change order',\n",
       " 'Backend Update - Charge for Tiger Voice Orders',\n",
       " 'Supplier/Customer Migration/Numbering Plan Change Request',\n",
       " 'Order closure - XML Failure',\n",
       " 'Backend Update - Service Precedence and Service Abbreviation',\n",
       " 'Application Latency - Multi user sessions']"
      ]
     },
     "execution_count": 26,
     "metadata": {},
     "output_type": "execute_result"
    }
   ],
   "source": [
    "lbl = df.loc[df['TICKET_TYPE'] == 'Incident', 'RESOLUTION']\n",
    "labels = [rows for rows in lbl]\n",
    "labels"
   ]
  },
  {
   "cell_type": "code",
   "execution_count": 28,
   "metadata": {},
   "outputs": [
    {
     "data": {
      "text/plain": [
       "[1, 2, 1, 2, 5, 1, 1, 3]"
      ]
     },
     "execution_count": 28,
     "metadata": {},
     "output_type": "execute_result"
    }
   ],
   "source": [
    "val = df.loc[df['TICKET_TYPE'] == 'Service Request', 'TICKET_COUNT']\n",
    "values = [rows for rows in val]\n",
    "values"
   ]
  },
  {
   "cell_type": "code",
   "execution_count": 23,
   "metadata": {},
   "outputs": [
    {
     "data": {
      "text/plain": [
       "'c:\\\\python\\\\tt-chart\\\\data\\\\data.csv'"
      ]
     },
     "execution_count": 23,
     "metadata": {},
     "output_type": "execute_result"
    }
   ],
   "source": [
    "import os\n",
    "path = os.path.join(os.getcwd(), 'data', 'data.csv')\n",
    "path"
   ]
  },
  {
   "cell_type": "code",
   "execution_count": 3,
   "metadata": {},
   "outputs": [
    {
     "data": {
      "text/html": [
       "<div>\n",
       "<style scoped>\n",
       "    .dataframe tbody tr th:only-of-type {\n",
       "        vertical-align: middle;\n",
       "    }\n",
       "\n",
       "    .dataframe tbody tr th {\n",
       "        vertical-align: top;\n",
       "    }\n",
       "\n",
       "    .dataframe thead th {\n",
       "        text-align: right;\n",
       "    }\n",
       "</style>\n",
       "<table border=\"1\" class=\"dataframe\">\n",
       "  <thead>\n",
       "    <tr style=\"text-align: right;\">\n",
       "      <th></th>\n",
       "      <th>RESOLUTION</th>\n",
       "      <th>TICKET_COUNT</th>\n",
       "      <th>TICKET_TYPE</th>\n",
       "      <th>MONTH</th>\n",
       "    </tr>\n",
       "  </thead>\n",
       "  <tbody>\n",
       "    <tr>\n",
       "      <th>0</th>\n",
       "      <td>Bill Start Date Update for Data Orders</td>\n",
       "      <td>1</td>\n",
       "      <td>Service Request</td>\n",
       "      <td>Mar2022</td>\n",
       "    </tr>\n",
       "    <tr>\n",
       "      <th>1</th>\n",
       "      <td>Old charge Id update in the latest MACD order</td>\n",
       "      <td>1</td>\n",
       "      <td>Incident</td>\n",
       "      <td>Mar2022</td>\n",
       "    </tr>\n",
       "    <tr>\n",
       "      <th>2</th>\n",
       "      <td>Termination Date Update for Data Orders</td>\n",
       "      <td>2</td>\n",
       "      <td>Service Request</td>\n",
       "      <td>Mar2022</td>\n",
       "    </tr>\n",
       "    <tr>\n",
       "      <th>3</th>\n",
       "      <td>Pilot activity - City Configuration</td>\n",
       "      <td>1</td>\n",
       "      <td>Service Request</td>\n",
       "      <td>Mar2022</td>\n",
       "    </tr>\n",
       "    <tr>\n",
       "      <th>4</th>\n",
       "      <td>Circuit Fetching - PO details Updated for Cram...</td>\n",
       "      <td>1</td>\n",
       "      <td>Incident</td>\n",
       "      <td>Mar2022</td>\n",
       "    </tr>\n",
       "  </tbody>\n",
       "</table>\n",
       "</div>"
      ],
      "text/plain": [
       "                                          RESOLUTION  TICKET_COUNT  \\\n",
       "0             Bill Start Date Update for Data Orders             1   \n",
       "1      Old charge Id update in the latest MACD order             1   \n",
       "2            Termination Date Update for Data Orders             2   \n",
       "3                Pilot activity - City Configuration             1   \n",
       "4  Circuit Fetching - PO details Updated for Cram...             1   \n",
       "\n",
       "       TICKET_TYPE    MONTH  \n",
       "0  Service Request  Mar2022  \n",
       "1         Incident  Mar2022  \n",
       "2  Service Request  Mar2022  \n",
       "3  Service Request  Mar2022  \n",
       "4         Incident  Mar2022  "
      ]
     },
     "execution_count": 3,
     "metadata": {},
     "output_type": "execute_result"
    }
   ],
   "source": [
    "df1 = pd.read_csv('./data/data_cur.csv')\n",
    "df1.head(5)"
   ]
  },
  {
   "cell_type": "code",
   "execution_count": 4,
   "metadata": {},
   "outputs": [
    {
     "data": {
      "text/plain": [
       "array(['Mar2022'], dtype=object)"
      ]
     },
     "execution_count": 4,
     "metadata": {},
     "output_type": "execute_result"
    }
   ],
   "source": [
    "mon = df1['MONTH'].unique()\n",
    "mon"
   ]
  }
 ],
 "metadata": {
  "interpreter": {
   "hash": "0600588c3b5f4418cbe7b5ebc6825b479f3bc010269d8b60d75058cdd010adfe"
  },
  "kernelspec": {
   "display_name": "Python 3.7.3 64-bit",
   "language": "python",
   "name": "python3"
  },
  "language_info": {
   "codemirror_mode": {
    "name": "ipython",
    "version": 3
   },
   "file_extension": ".py",
   "mimetype": "text/x-python",
   "name": "python",
   "nbconvert_exporter": "python",
   "pygments_lexer": "ipython3",
   "version": "3.7.3"
  },
  "orig_nbformat": 4
 },
 "nbformat": 4,
 "nbformat_minor": 2
}
